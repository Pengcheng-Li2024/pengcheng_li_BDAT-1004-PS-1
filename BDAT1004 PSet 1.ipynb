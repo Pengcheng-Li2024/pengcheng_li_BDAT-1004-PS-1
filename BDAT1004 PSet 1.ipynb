{
 "cells": [
  {
   "cell_type": "markdown",
   "id": "b0f9ad32-a3c2-4a2e-b636-ddb6474e950d",
   "metadata": {},
   "source": [
    "Question 1\n",
    "What data type is each of the following (evaluate where necessary)?\n",
    "5   Data type: integer\n",
    "5.0   Data type: float\n",
    "5 > 1   Data type: boolean\n",
    "'5'   Data type: string\n",
    "5 * 2   Data type: integer\n",
    "'5' * 2  Data type: string\n",
    "'5' + '2'  Data type: string\n",
    "5 / 2  Data type: float\n",
    "5%2  Data type: integer\n",
    "{5, 2, 1}  Data type: list\n",
    "5 == 3  Data type: boolean\n",
    "Pi (the number)  Data type: float"
   ]
  },
  {
   "cell_type": "code",
   "execution_count": 16,
   "id": "db346db4-b320-4dd9-a0cc-f17de1f22c89",
   "metadata": {},
   "outputs": [
    {
     "name": "stdout",
     "output_type": "stream",
     "text": [
      "5\n",
      "5.0\n",
      "True\n",
      "5\n",
      "10\n",
      "55\n",
      "52\n",
      "2.5\n",
      "1\n",
      "{1, 2, 5}\n",
      "False\n"
     ]
    }
   ],
   "source": [
    "print(5)\n",
    "print(5.0)\n",
    "print(5 > 1)\n",
    "print('5')\n",
    "print(5 * 2)\n",
    "print('5' * 2)\n",
    "print('5' + '2')\n",
    "print(5 / 2)\n",
    "print(5%2)\n",
    "print({5, 2, 1})\n",
    "print(5 == 3)"
   ]
  },
  {
   "cell_type": "markdown",
   "id": "7502a9f9-0b7e-4fbd-a88c-320a2dcb8745",
   "metadata": {},
   "source": [
    "Question 2\n",
    "Write (and evaluate) python expressions that answer these questions:\n",
    "How many letters are there in 'Supercalifragilisticexpialidocious'?"
   ]
  },
  {
   "cell_type": "code",
   "execution_count": 5,
   "id": "5970c5b9-7577-4345-8238-6407a74291c3",
   "metadata": {},
   "outputs": [
    {
     "data": {
      "text/plain": [
       "34"
      ]
     },
     "execution_count": 5,
     "metadata": {},
     "output_type": "execute_result"
    }
   ],
   "source": [
    "len('Supercalifragilisticexpialidocious')"
   ]
  },
  {
   "cell_type": "markdown",
   "id": "185e5d5d-3dca-4047-a08e-1e6b0771e2b9",
   "metadata": {},
   "source": [
    "Does 'Supercalifragilisticexpialidocious' contain 'ice' as a substring?"
   ]
  },
  {
   "cell_type": "code",
   "execution_count": 6,
   "id": "4eb60579-94f6-4598-907b-1ec5346a0dae",
   "metadata": {},
   "outputs": [
    {
     "data": {
      "text/plain": [
       "True"
      ]
     },
     "execution_count": 6,
     "metadata": {},
     "output_type": "execute_result"
    }
   ],
   "source": [
    "'ice' in 'Supercalifragilisticexpialidocious'"
   ]
  },
  {
   "cell_type": "markdown",
   "id": "980689b0-e75c-4de0-8ca6-f6335da4ab86",
   "metadata": {},
   "source": [
    "Which of the following words is the longest:\n",
    "Supercalifragilisticexpialidocious, Honorificabilitudinitatibus, or\n",
    "Bababadalgharaghtakamminarronnkonn?"
   ]
  },
  {
   "cell_type": "code",
   "execution_count": 10,
   "id": "2a487e89-da14-4436-b8be-ab14ce003ec0",
   "metadata": {},
   "outputs": [
    {
     "data": {
      "text/plain": [
       "'Supercalifragilisticexpialidocious'"
      ]
     },
     "execution_count": 10,
     "metadata": {},
     "output_type": "execute_result"
    }
   ],
   "source": [
    "longest_word = max(['Supercalifragilisticexpialidocious', 'Honorificabilitudinitatibus', 'Bababadalgharaghtakamminarronnkonn'], key=len)\n",
    "longest_word"
   ]
  },
  {
   "cell_type": "markdown",
   "id": "aedd7472-6cf9-4638-aa50-07c0b2de7c8c",
   "metadata": {},
   "source": [
    "Which composer comes first in the dictionary: 'Berlioz', 'Borodin', 'Brian',\n",
    "'Bartok', 'Bellini', 'Buxtehude', 'Bernstein'. Which one comes last?"
   ]
  },
  {
   "cell_type": "code",
   "execution_count": 11,
   "id": "d1d4d7e6-6f4d-4020-88fd-3bf9c24c8a3b",
   "metadata": {},
   "outputs": [
    {
     "data": {
      "text/plain": [
       "('Bartok', 'Buxtehude')"
      ]
     },
     "execution_count": 11,
     "metadata": {},
     "output_type": "execute_result"
    }
   ],
   "source": [
    "composers = ['Berlioz', 'Borodin', 'Brian', 'Bartok', 'Bellini', 'Buxtehude', 'Bernstein']\n",
    "first_composer = min(composers)\n",
    "last_composer = max(composers)\n",
    "first_composer, last_composer"
   ]
  },
  {
   "cell_type": "markdown",
   "id": "8bf1fec3-7c94-4dfe-8b65-0ba745c313fd",
   "metadata": {},
   "source": [
    "Question 3\n",
    "Implement function triangleArea(a,b,c) that takes as input the lengths of the 3 sides of a triangle and returns the area of the triangle. By Heron's formula, the area of a triangle with side lengths a, b, and c is s(s - a)(s -b)(s -c), where s = (a +b + c) /2.\n",
    ">>> triangleArea(2,2,2)\n",
    "1.7320508075688772"
   ]
  },
  {
   "cell_type": "code",
   "execution_count": 20,
   "id": "61f072ea-d2b2-442c-9eaf-e1d7c4f089b4",
   "metadata": {},
   "outputs": [
    {
     "data": {
      "text/plain": [
       "1.7320508075688772"
      ]
     },
     "execution_count": 20,
     "metadata": {},
     "output_type": "execute_result"
    }
   ],
   "source": [
    "import math\n",
    "\n",
    "def triangleArea(a, b, c):\n",
    "    s = (a + b + c) / 2\n",
    "    area = math.sqrt(s * (s - a) * (s - b) * (s - c))\n",
    "    return area\n",
    "\n",
    "triangleArea(2, 2, 2)"
   ]
  },
  {
   "cell_type": "markdown",
   "id": "0cab27f7-1569-4379-9b6a-7ceafcf84a27",
   "metadata": {},
   "source": [
    "Question 4\n",
    "Write a program in python to separate odd and even integers in separate arrays. Go\n",
    "to the editor"
   ]
  },
  {
   "cell_type": "code",
   "execution_count": 21,
   "id": "deab6fdc-3f2f-429b-93ee-fd527775b48f",
   "metadata": {},
   "outputs": [
    {
     "name": "stdin",
     "output_type": "stream",
     "text": [
      "Input the number of elements to be stored in the array:  5\n",
      "Element - 0:  25\n",
      "Element - 1:  47\n",
      "Element - 2:  42\n",
      "Element - 3:  56\n",
      "Element - 4:  32\n"
     ]
    },
    {
     "name": "stdout",
     "output_type": "stream",
     "text": [
      "The Even elements are: 42 56 32\n",
      "The Odd elements are: 25 47\n"
     ]
    }
   ],
   "source": [
    "def separate_odd_even(numbers):\n",
    "    even_numbers = []\n",
    "    odd_numbers = []\n",
    "    for number in numbers:\n",
    "        if number % 2 == 0:\n",
    "            even_numbers.append(number)\n",
    "        else:\n",
    "            odd_numbers.append(number)\n",
    "    \n",
    "    return even_numbers, odd_numbers\n",
    "\n",
    "n = int(input(\"Input the number of elements to be stored in the array: \"))\n",
    "\n",
    "numbers = []\n",
    "for i in range(n):\n",
    "    element = int(input(f\"Element - {i}: \"))\n",
    "    numbers.append(element)\n",
    "\n",
    "even_elements, odd_elements = separate_odd_even(numbers)\n",
    "\n",
    "print(\"The Even elements are:\", ' '.join(map(str, even_elements)))\n",
    "print(\"The Odd elements are:\", ' '.join(map(str, odd_elements)))"
   ]
  },
  {
   "cell_type": "markdown",
   "id": "8aa79c96-9a19-4553-9d6d-e96b2f03388b",
   "metadata": {},
   "source": [
    "Question 5\n",
    "a. Write a function inside(x,y,x1,y1,x2,y2) that returns True or False depending on whether the point (x,y) lies in the rectangle with lower left corner (x1,y1) and upper right corner (x2,y2).\n",
    ">>> inside(1,1,0,0,2,3)\n",
    "True\n",
    ">>> inside(-1,-1,0,0,2,3)\n",
    "False"
   ]
  },
  {
   "cell_type": "code",
   "execution_count": 23,
   "id": "0a4314c5-f571-4a4c-8c61-8d03261f5f33",
   "metadata": {},
   "outputs": [
    {
     "name": "stdout",
     "output_type": "stream",
     "text": [
      "True\n",
      "False\n"
     ]
    }
   ],
   "source": [
    "def inside(x, y, x1, y1, x2, y2):\n",
    "    return x1 <= x <= x2 and y1 <= y <= y2\n",
    "\n",
    "print(inside(1, 1, 0, 0, 2, 3)) \n",
    "print(inside(-1, -1, 0, 0, 2, 3)) "
   ]
  },
  {
   "cell_type": "code",
   "execution_count": 24,
   "id": "269c1741-2faa-4354-b26d-e9a58a1e8de5",
   "metadata": {},
   "outputs": [
    {
     "name": "stdout",
     "output_type": "stream",
     "text": [
      "False\n"
     ]
    }
   ],
   "source": [
    "rect1_inside = inside(1, 1, 0.3, 0.5, 1.1, 0.7)\n",
    "rect2_inside = inside(1, 1, 0.5, 0.2, 1.1, 2)\n",
    "\n",
    "is_in_both_rectangles = rect1_inside and rect2_inside\n",
    "print(is_in_both_rectangles)"
   ]
  },
  {
   "cell_type": "markdown",
   "id": "f68ec65c-b912-4abd-bfc8-6c0cd0e1484e",
   "metadata": {},
   "source": [
    "Question 6\n",
    "You can turn a word into pig-Latin using the following two rules (simplified):\n",
    "• If the word starts with a consonant, move that letter to the end and append 'ay'. For example, 'happy' becomes 'appyhay' and 'pencil' becomes 'encilpay'.\n",
    "• If the word starts with a vowel, simply append 'way' to the end of the word. For example, 'enter' becomes 'enterway' and 'other' becomes 'otherway' . For our purposes, there are 5 vowels: a, e, i, o, u (so we count y as a consonant).\n",
    "Write a function pig() that takes a word (i.e., a string) as input and returns its pig-Latin form. Your function should still work if the input word contains upper case characters. Your output should always be lower case however.\n",
    ">>> pig('happy')\n",
    "'appyhay'\n",
    ">>> pig('Enter')\n",
    "'enterway'"
   ]
  },
  {
   "cell_type": "code",
   "execution_count": 25,
   "id": "90390ccf-4934-4149-b29a-58ab3037cc23",
   "metadata": {},
   "outputs": [
    {
     "name": "stdout",
     "output_type": "stream",
     "text": [
      "appyhay\n",
      "enterway\n"
     ]
    }
   ],
   "source": [
    "def pig(word):\n",
    "    word = word.lower()\n",
    "    vowels = 'aeiou'\n",
    "    if word[0] in vowels:\n",
    "        return word + 'way'\n",
    "    else:\n",
    "        return word[1:] + word[0] + 'ay'\n",
    "\n",
    "print(pig('happy'))\n",
    "print(pig('Enter'))"
   ]
  },
  {
   "cell_type": "markdown",
   "id": "b712dc87-69aa-4fcd-af2c-d2e8119e0c01",
   "metadata": {},
   "source": [
    "Question 7\n",
    "File bloodtype1.txt records blood-types of patients (A, B, AB, O or OO) at a clinic. Write a function bldcount() that reads the file with name name and reports (i.e., prints) how many patients there are in each bloodtype.\n",
    ">>> bldcount('bloodtype.txt')\n",
    "There are 10 patients of blood type A.\n",
    "There is one patient of blood type B.\n",
    "There are 10 patients of blood type AB.\n",
    "There are 12 patients of blood type O.\n",
    "There are no patients of blood type OO."
   ]
  },
  {
   "cell_type": "code",
   "execution_count": null,
   "id": "c3cce7ef-9b72-4b59-a860-8202c4faa482",
   "metadata": {},
   "outputs": [],
   "source": []
  },
  {
   "cell_type": "markdown",
   "id": "4481fb39-30fd-4399-952f-3cddfd8d10de",
   "metadata": {},
   "source": [
    "Question 8\n",
    "Write a function curconv() that takes as input:\n",
    "1. a currency represented using a string (e.g., 'JPY' for the Japanese Yen or 'EUR' for the Euro)\n",
    "2. an amount\n",
    "and then converts and returns the amount in US dollars."
   ]
  },
  {
   "cell_type": "code",
   "execution_count": 2,
   "id": "8287e290-7bcb-4f7e-b4a5-cdc346d15aaa",
   "metadata": {},
   "outputs": [],
   "source": [
    "def curconv(currency, amount):\n",
    "    fp = open(\"currencies.txt\")\n",
    "    for line in fp.readlines():\n",
    "        cols = line.strip().split()\n",
    "        (cur_type, rate, cur_name) = (cols[0], float(cols[1]), ' '.join(cols))\n",
    "        if(cur_type == currency):\n",
    "            break\n",
    "    fp.close()\n",
    "    return rate * amount"
   ]
  },
  {
   "cell_type": "markdown",
   "id": "d90c8185-6ad3-4a54-b858-4d05e6c4e4df",
   "metadata": {},
   "source": [
    "Question 9\n",
    "Each of the following will cause an exception (an error). Identify what type of exception each will cause."
   ]
  },
  {
   "cell_type": "code",
   "execution_count": null,
   "id": "6a1eb321-b4b8-4120-b6ae-35731a7d4340",
   "metadata": {},
   "outputs": [],
   "source": []
  },
  {
   "cell_type": "markdown",
   "id": "691e67e9-df92-4fb4-a4a4-08909e7862bd",
   "metadata": {},
   "source": [
    "Question 10\n",
    "Encryption is the process of hiding the meaning of a text by substituting letters in the message with other letters, according to some system. If the process is successful, no one but the intended recipient can understand the encrypted message. Cryptanalysis refers to attempts to undo the encryption, even if some details of the encryption are unknown (for example, if an encrypted message has been intercepted). The first step of cryptanalysis is often to build up a table of letter frequencies in the encrypted text. Assume that the string letters is already defined as 'abcdefghijklmnopqrstuvwxyz'. Write a function called frequencies() that takes a string as its only parameter, and returns a list of integers, showing the number of times each character appears in the text. Your function may ignore any characters that are not in letters.\n",
    ">>> frequencies('The quick red fox got bored and went home.')\n",
    "[1, 1, 1, 3, 5, 1, 1, 2, 1, 0, 1, 0, 1, 2, 4, 0, 1, 2, 0, 2, 1, 0, 1, 1, 0, 0]\n",
    ">>> frequencies('apple')"
   ]
  },
  {
   "cell_type": "code",
   "execution_count": 37,
   "id": "cacafc1d-722b-42f8-9f0e-fafea31b2b1f",
   "metadata": {},
   "outputs": [
    {
     "name": "stdout",
     "output_type": "stream",
     "text": [
      "[1, 1, 1, 3, 5, 1, 1, 2, 1, 0, 1, 0, 1, 2, 4, 0, 1, 2, 0, 3, 1, 0, 1, 1, 0, 0]\n",
      "[1, 0, 0, 0, 1, 0, 0, 0, 0, 0, 0, 1, 0, 0, 0, 2, 0, 0, 0, 0, 0, 0, 0, 0, 0, 0]\n"
     ]
    }
   ],
   "source": [
    "def frequencies(text):\n",
    "    letters = 'abcdefghijklmnopqrstuvwxyz'\n",
    "    freq_list = [0] * 26\n",
    "    text = text.lower()\n",
    "    for char in text:\n",
    "        if char in letters:\n",
    "            index = letters.index(char)\n",
    "            freq_list[index] += 1\n",
    "    \n",
    "    return freq_list\n",
    "\n",
    "print(frequencies('The quick red fox got bored and went home.'))\n",
    "print(frequencies('apple'))"
   ]
  }
 ],
 "metadata": {
  "kernelspec": {
   "display_name": "Python 3 (ipykernel)",
   "language": "python",
   "name": "python3"
  },
  "language_info": {
   "codemirror_mode": {
    "name": "ipython",
    "version": 3
   },
   "file_extension": ".py",
   "mimetype": "text/x-python",
   "name": "python",
   "nbconvert_exporter": "python",
   "pygments_lexer": "ipython3",
   "version": "3.12.7"
  }
 },
 "nbformat": 4,
 "nbformat_minor": 5
}
